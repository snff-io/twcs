{
 "cells": [
  {
   "cell_type": "code",
   "execution_count": 20,
   "metadata": {},
   "outputs": [
    {
     "name": "stdout",
     "output_type": "stream",
     "text": [
      "\u001b[40m\u001b[38;5;238m      \u001b[38;5;253m█\u001b[38;5;238m\u001b[38;5;253m█\u001b[38;5;238m       \u001b[38;5;253m█\u001b[38;5;238m\u001b[38;5;253m█\u001b[38;5;238m       \u001b[38;5;253m█\u001b[38;5;238m\u001b[38;5;253m█\u001b[38;5;238m       \u001b[38;5;253m█\u001b[38;5;238m\u001b[38;5;253m█\u001b[38;5;238m       \u001b[38;5;253m█\u001b[38;5;238m\u001b[38;5;253m█\u001b[38;5;238m       \u001b[38;5;253m█\u001b[38;5;238m        \u001b[38;5;253m█\u001b[38;5;238m        \u001b[38;5;253m█\u001b[38;5;238m       \u001b[38;5;253m█\u001b[38;5;238m\u001b[38;5;253m█\u001b[38;5;238m \n",
      "                                         \u001b[38;5;243m█\u001b[38;5;238m        \u001b[38;5;243m█\u001b[38;5;238m \u001b[38;5;243m█\u001b[38;5;238m      \u001b[38;5;243m█\u001b[38;5;238m \u001b[38;5;243m█\u001b[38;5;238m      \u001b[38;5;243m█\u001b[38;5;238m \u001b[38;5;243m█\u001b[38;5;238m        \u001b[38;5;243m█\u001b[38;5;238m\n",
      "        \u001b[38;5;252m█\u001b[38;5;238m        \u001b[38;5;252m█\u001b[38;5;238m     \u001b[38;5;252m█\u001b[38;5;238m        \u001b[38;5;252m█\u001b[38;5;238m                                               \n",
      "     \u001b[38;5;253m█\u001b[38;5;238m        \u001b[38;5;253m█\u001b[38;5;238m           \u001b[38;5;253m█\u001b[38;5;238m        \u001b[38;5;253m█\u001b[38;5;238m        \u001b[38;5;253m█\u001b[38;5;238m                               \u001b[38;5;253m█\u001b[38;5;238m   \n",
      "                                                     \u001b[38;5;239m█\u001b[38;5;238m    \u001b[38;5;239m█\u001b[38;5;238m   \u001b[38;5;239m█\u001b[38;5;238m    \u001b[38;5;239m█\u001b[38;5;238m            \n",
      "\u001b[38;5;255m█\u001b[38;5;238m        \u001b[38;5;255m█\u001b[38;5;238m                     \u001b[38;5;255m█\u001b[38;5;238m        \u001b[38;5;255m█\u001b[38;5;238m        \u001b[38;5;255m█\u001b[38;5;238m                     \u001b[38;5;255m█\u001b[38;5;238m        \n",
      "             \u001b[38;5;251m█\u001b[38;5;238m    \u001b[38;5;251m█\u001b[38;5;238m   \u001b[38;5;251m█\u001b[38;5;238m    \u001b[38;5;251m█\u001b[38;5;238m                                                    \n",
      "    \u001b[38;5;253m█\u001b[38;5;238m                               \u001b[38;5;253m█\u001b[38;5;238m        \u001b[38;5;253m█\u001b[38;5;238m        \u001b[38;5;253m█\u001b[38;5;238m           \u001b[38;5;253m█\u001b[38;5;238m        \u001b[38;5;253m█\u001b[38;5;238m    \n",
      "                                                \u001b[38;5;241m█\u001b[38;5;238m        \u001b[38;5;241m█\u001b[38;5;238m     \u001b[38;5;241m█\u001b[38;5;238m        \u001b[38;5;241m█\u001b[38;5;238m       \n",
      " \u001b[38;5;254m█\u001b[38;5;238m        \u001b[38;5;254m█\u001b[38;5;238m \u001b[38;5;254m█\u001b[38;5;238m      \u001b[38;5;254m█\u001b[38;5;238m \u001b[38;5;254m█\u001b[38;5;238m      \u001b[38;5;254m█\u001b[38;5;238m \u001b[38;5;254m█\u001b[38;5;238m        \u001b[38;5;254m█\u001b[38;5;238m                                        \n",
      "  \u001b[38;5;254m█\u001b[38;5;238m\u001b[38;5;254m█\u001b[38;5;238m       \u001b[38;5;254m█\u001b[38;5;238m                 \u001b[38;5;254m█\u001b[38;5;238m       \u001b[38;5;254m█\u001b[38;5;238m\u001b[38;5;254m█\u001b[38;5;238m       \u001b[38;5;254m█\u001b[38;5;238m\u001b[38;5;254m█\u001b[38;5;238m       \u001b[38;5;254m█\u001b[38;5;238m\u001b[38;5;254m█\u001b[38;5;238m       \u001b[38;5;254m█\u001b[38;5;238m\u001b[38;5;254m█\u001b[38;5;238m       \u001b[38;5;254m█\u001b[38;5;238m\u001b[38;5;254m█\u001b[38;5;238m     \n",
      "                    \u001b[38;5;249m█\u001b[38;5;238m                                                           \n",
      "\u001b[0m\n"
     ]
    }
   ],
   "source": [
    "import math\n",
    "import time\n",
    "\n",
    "def draw_sine_wave(freq):\n",
    "    width = 80\n",
    "    height = 12\n",
    "    display_time = 0.1  # 100 milliseconds display time\n",
    "    freq = max(25, min(46, freq))  # Limit frequency between 25 and 46 Hz\n",
    "\n",
    "    # Calculate the number of cycles needed for the given display time and frequency\n",
    "    if freq <= 35:\n",
    "        cycles = int((freq - 25) / 10 * 5) + 2\n",
    "    else:\n",
    "        cycles = int((freq - 35) / 11 * 10) + 7\n",
    "\n",
    "    # Calculate scale factor based on frequency and cycles\n",
    "    scale = (2 * math.pi * cycles) / width\n",
    "\n",
    "    # Initialize empty grid\n",
    "    grid = [[' ' for _ in range(width)] for _ in range(height)]\n",
    "\n",
    "    # Draw sine wave\n",
    "    for x in range(width):\n",
    "        y = math.sin(x * scale)\n",
    "        y_scaled = int((y + 1) * (height - 1) / 2)\n",
    "        grid[y_scaled][x] = '\\u2588'  # Half block character\n",
    "\n",
    "    # Print the grid with ANSI colors\n",
    "    print('\\x1b[40m', end='')  # Set background color to black\n",
    "    print('\\x1b[38;5;238m', end='')  # Set foreground color to metal grey\n",
    "\n",
    "    for row in grid:\n",
    "        for char in row:\n",
    "            if char == '\\u2588':  # Half block character\n",
    "                # Gradient from bright green to black\n",
    "                shade = int((len(row) - row.index(char)) / len(row) * 23) + 232\n",
    "                print('\\x1b[38;5;{}m{}\\x1b[38;5;238m'.format(shade, char), end='')\n",
    "            else:\n",
    "                print(char, end='')\n",
    "        print()\n",
    "\n",
    "    # Reset ANSI colors\n",
    "    print('\\x1b[0m')\n",
    "\n",
    "# Example usage\n",
    "frequency = 38\n",
    "draw_sine_wave(frequency)\n"
   ]
  }
 ],
 "metadata": {
  "kernelspec": {
   "display_name": "v",
   "language": "python",
   "name": "python3"
  },
  "language_info": {
   "codemirror_mode": {
    "name": "ipython",
    "version": 3
   },
   "file_extension": ".py",
   "mimetype": "text/x-python",
   "name": "python",
   "nbconvert_exporter": "python",
   "pygments_lexer": "ipython3",
   "version": "3.11.2"
  }
 },
 "nbformat": 4,
 "nbformat_minor": 2
}
