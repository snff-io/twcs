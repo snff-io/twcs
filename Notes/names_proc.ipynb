{
 "cells": [
  {
   "cell_type": "code",
   "execution_count": 4,
   "metadata": {},
   "outputs": [],
   "source": [
    "def sort_and_group_names(input_file):\n",
    "    # Extract the filename without extension\n",
    "    file_name_without_extension = input_file.split('.')[0]\n",
    "\n",
    "    # Read names from the input file\n",
    "    with open(input_file, 'r') as file:\n",
    "        names = file.readlines()\n",
    "\n",
    "    # Initialize a dictionary to store names grouped by their first character\n",
    "    name_groups = {}\n",
    "\n",
    "    # Group names by the first character\n",
    "    for name in names:\n",
    "        first_char = name[0].upper()\n",
    "        if first_char in name_groups:\n",
    "            name_groups[first_char].append(name.strip().replace('/', '-'))\n",
    "        else:\n",
    "            name_groups[first_char] = [name.strip().replace('/', '-')]\n",
    "\n",
    "    # Write grouped names to new files\n",
    "    for first_char, names in name_groups.items():\n",
    "        new_file_name = f\"{first_char}_{file_name_without_extension}.txt\"\n",
    "        with open(new_file_name, 'w') as file:\n",
    "            for name in names:\n",
    "                file.write(name + '\\n')\n",
    "\n",
    "# Example usage:\n",
    "input_file = \"names_heart.txt\"  # Change this to your input file name\n",
    "sort_and_group_names(input_file)\n"
   ]
  }
 ],
 "metadata": {
  "kernelspec": {
   "display_name": "v",
   "language": "python",
   "name": "python3"
  },
  "language_info": {
   "codemirror_mode": {
    "name": "ipython",
    "version": 3
   },
   "file_extension": ".py",
   "mimetype": "text/x-python",
   "name": "python",
   "nbconvert_exporter": "python",
   "pygments_lexer": "ipython3",
   "version": "3.11.2"
  }
 },
 "nbformat": 4,
 "nbformat_minor": 2
}
